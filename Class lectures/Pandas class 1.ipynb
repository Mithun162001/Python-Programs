{
 "cells": [
  {
   "cell_type": "code",
   "execution_count": 2,
   "id": "3e415961-89e8-4b50-9073-54787496c368",
   "metadata": {},
   "outputs": [],
   "source": [
    "import numpy as np\n",
    "import pandas as pd"
   ]
  },
  {
   "cell_type": "code",
   "execution_count": 4,
   "id": "8061ced3-b95c-44e7-9b4b-a99ffc2dd0fb",
   "metadata": {},
   "outputs": [
    {
     "data": {
      "text/plain": [
       "0    AB\n",
       "1    VK\n",
       "2    MS\n",
       "dtype: object"
      ]
     },
     "execution_count": 4,
     "metadata": {},
     "output_type": "execute_result"
    }
   ],
   "source": [
    "# create series from ndarray\n",
    "x1 = np.array(['AB',\"VK\",\"MS\"])\n",
    "seri = pd.Series(x1)\n",
    "seri"
   ]
  },
  {
   "cell_type": "code",
   "execution_count": 5,
   "id": "94da5171-a7ea-490d-8a1d-2ef79985d237",
   "metadata": {},
   "outputs": [
    {
     "name": "stdout",
     "output_type": "stream",
     "text": [
      "<class 'pandas.core.series.Series'>\n"
     ]
    }
   ],
   "source": [
    "print(type(seri))"
   ]
  },
  {
   "cell_type": "code",
   "execution_count": 6,
   "id": "146fa4f5-02b7-47f1-a76d-54c9ffc5a2a6",
   "metadata": {},
   "outputs": [
    {
     "data": {
      "text/plain": [
       "100    AB\n",
       "101    VK\n",
       "102    MS\n",
       "dtype: object"
      ]
     },
     "execution_count": 6,
     "metadata": {},
     "output_type": "execute_result"
    }
   ],
   "source": [
    "# custom indexing in series\n",
    "seri = pd.Series(x1,index=[100,101,102])\n",
    "seri"
   ]
  },
  {
   "cell_type": "code",
   "execution_count": 7,
   "id": "ce202fc0-d983-4317-98f7-8ac1c9fa8653",
   "metadata": {},
   "outputs": [
    {
     "data": {
      "text/plain": [
       "100      AB\n",
       "101      VK\n",
       "102      MS\n",
       "3      sdaf\n",
       "dtype: object"
      ]
     },
     "execution_count": 7,
     "metadata": {},
     "output_type": "execute_result"
    }
   ],
   "source": [
    "# modifying series elements\n",
    "seri[3] = 'sdaf'   # if index is not specified then default values are assigned\n",
    "seri"
   ]
  },
  {
   "cell_type": "code",
   "execution_count": 8,
   "id": "ba61ad35-fcff-4b16-9025-abe95670f7a9",
   "metadata": {},
   "outputs": [
    {
     "data": {
      "text/plain": [
       "101    AB\n",
       "102    VK\n",
       "103    MS\n",
       "dtype: object"
      ]
     },
     "execution_count": 8,
     "metadata": {},
     "output_type": "execute_result"
    }
   ],
   "source": [
    "# creating Series using Dictinoary\n",
    "dict = {101:\"AB\",102:\"VK\",103:\"MS\"}\n",
    "seri = pd.Series(dict)\n",
    "seri"
   ]
  },
  {
   "cell_type": "code",
   "execution_count": 11,
   "id": "5efd9b8b-94bc-4019-aea1-9edccb7d7919",
   "metadata": {},
   "outputs": [
    {
     "data": {
      "text/plain": [
       "200    5\n",
       "200    5\n",
       "dtype: int64"
      ]
     },
     "execution_count": 11,
     "metadata": {},
     "output_type": "execute_result"
    }
   ],
   "source": [
    "# create a series from scalar values\n",
    "x = pd.Series(5, index=[100,200,200])\n",
    "x[200]"
   ]
  },
  {
   "cell_type": "code",
   "execution_count": 12,
   "id": "edf55fdc-f08e-45d3-9fcb-843a301a0747",
   "metadata": {},
   "outputs": [
    {
     "data": {
      "text/html": [
       "<div>\n",
       "<style scoped>\n",
       "    .dataframe tbody tr th:only-of-type {\n",
       "        vertical-align: middle;\n",
       "    }\n",
       "\n",
       "    .dataframe tbody tr th {\n",
       "        vertical-align: top;\n",
       "    }\n",
       "\n",
       "    .dataframe thead th {\n",
       "        text-align: right;\n",
       "    }\n",
       "</style>\n",
       "<table border=\"1\" class=\"dataframe\">\n",
       "  <thead>\n",
       "    <tr style=\"text-align: right;\">\n",
       "      <th></th>\n",
       "      <th>0</th>\n",
       "    </tr>\n",
       "  </thead>\n",
       "  <tbody>\n",
       "    <tr>\n",
       "      <th>0</th>\n",
       "      <td>100</td>\n",
       "    </tr>\n",
       "    <tr>\n",
       "      <th>1</th>\n",
       "      <td>200</td>\n",
       "    </tr>\n",
       "    <tr>\n",
       "      <th>2</th>\n",
       "      <td>300</td>\n",
       "    </tr>\n",
       "    <tr>\n",
       "      <th>3</th>\n",
       "      <td>400</td>\n",
       "    </tr>\n",
       "  </tbody>\n",
       "</table>\n",
       "</div>"
      ],
      "text/plain": [
       "     0\n",
       "0  100\n",
       "1  200\n",
       "2  300\n",
       "3  400"
      ]
     },
     "execution_count": 12,
     "metadata": {},
     "output_type": "execute_result"
    }
   ],
   "source": [
    "# creating a Datframe using a list\n",
    "lis = [100,200,300,400]\n",
    "pd.DataFrame(lis)"
   ]
  },
  {
   "cell_type": "code",
   "execution_count": 16,
   "id": "e96fd7cb-00a6-475d-a89a-5c2b591de4ef",
   "metadata": {},
   "outputs": [
    {
     "data": {
      "text/html": [
       "<div>\n",
       "<style scoped>\n",
       "    .dataframe tbody tr th:only-of-type {\n",
       "        vertical-align: middle;\n",
       "    }\n",
       "\n",
       "    .dataframe tbody tr th {\n",
       "        vertical-align: top;\n",
       "    }\n",
       "\n",
       "    .dataframe thead th {\n",
       "        text-align: right;\n",
       "    }\n",
       "</style>\n",
       "<table border=\"1\" class=\"dataframe\">\n",
       "  <thead>\n",
       "    <tr style=\"text-align: right;\">\n",
       "      <th></th>\n",
       "      <th>player</th>\n",
       "      <th>score</th>\n",
       "    </tr>\n",
       "  </thead>\n",
       "  <tbody>\n",
       "    <tr>\n",
       "      <th>0</th>\n",
       "      <td>AB</td>\n",
       "      <td>75</td>\n",
       "    </tr>\n",
       "    <tr>\n",
       "      <th>1</th>\n",
       "      <td>Vk</td>\n",
       "      <td>102</td>\n",
       "    </tr>\n",
       "  </tbody>\n",
       "</table>\n",
       "</div>"
      ],
      "text/plain": [
       "  player  score\n",
       "0     AB     75\n",
       "1     Vk    102"
      ]
     },
     "execution_count": 16,
     "metadata": {},
     "output_type": "execute_result"
    }
   ],
   "source": [
    "# creating a 2D array with column names\n",
    "data = [['AB',75],['Vk',102]]\n",
    "df = pd.DataFrame(data, columns = ['player','score'])\n",
    "df"
   ]
  },
  {
   "cell_type": "markdown",
   "id": "3644eda1-4c52-431c-9bbf-44aedede306e",
   "metadata": {},
   "source": [
    "<h2>Importing Data into pandas DataFrame</h2>\n",
    "\n",
    "* pd.read_table(filename) - read any files with tab separated values\n",
    "* pd.read_sql(query, connection) - read from a SQL table/Database\n",
    "* pd.read_clipboard() - Takes contents of your clipboard and passes to read_table()"
   ]
  },
  {
   "cell_type": "markdown",
   "id": "d99be594-d325-484f-ad1a-93586e94d973",
   "metadata": {},
   "source": [
    "<h2>Exporting Data from pandas DataFrame</h2>\n",
    "\n",
    "* df.to_csv(filename) - write to a CSV file\n",
    "* df.to_json(filename) - write to a JSON file"
   ]
  },
  {
   "cell_type": "code",
   "execution_count": 20,
   "id": "1fe19383-7ca9-4a71-99a1-7807354deaab",
   "metadata": {},
   "outputs": [
    {
     "data": {
      "text/html": [
       "<div>\n",
       "<style scoped>\n",
       "    .dataframe tbody tr th:only-of-type {\n",
       "        vertical-align: middle;\n",
       "    }\n",
       "\n",
       "    .dataframe tbody tr th {\n",
       "        vertical-align: top;\n",
       "    }\n",
       "\n",
       "    .dataframe thead th {\n",
       "        text-align: right;\n",
       "    }\n",
       "</style>\n",
       "<table border=\"1\" class=\"dataframe\">\n",
       "  <thead>\n",
       "    <tr style=\"text-align: right;\">\n",
       "      <th></th>\n",
       "      <th>day</th>\n",
       "      <th>temprature</th>\n",
       "      <th>windspeed</th>\n",
       "      <th>event</th>\n",
       "    </tr>\n",
       "  </thead>\n",
       "  <tbody>\n",
       "    <tr>\n",
       "      <th>0</th>\n",
       "      <td>1/1/2021</td>\n",
       "      <td>32.0</td>\n",
       "      <td>6.0</td>\n",
       "      <td>Rain</td>\n",
       "    </tr>\n",
       "    <tr>\n",
       "      <th>1</th>\n",
       "      <td>1/4/2021</td>\n",
       "      <td>NaN</td>\n",
       "      <td>9.0</td>\n",
       "      <td>Sunny</td>\n",
       "    </tr>\n",
       "    <tr>\n",
       "      <th>2</th>\n",
       "      <td>1/5/2021</td>\n",
       "      <td>28.0</td>\n",
       "      <td>NaN</td>\n",
       "      <td>Snow</td>\n",
       "    </tr>\n",
       "    <tr>\n",
       "      <th>3</th>\n",
       "      <td>1/6/2021</td>\n",
       "      <td>NaN</td>\n",
       "      <td>7.0</td>\n",
       "      <td>NaN</td>\n",
       "    </tr>\n",
       "    <tr>\n",
       "      <th>4</th>\n",
       "      <td>1/7/2021</td>\n",
       "      <td>32.0</td>\n",
       "      <td>NaN</td>\n",
       "      <td>Rain</td>\n",
       "    </tr>\n",
       "  </tbody>\n",
       "</table>\n",
       "</div>"
      ],
      "text/plain": [
       "        day  temprature  windspeed  event\n",
       "0  1/1/2021        32.0        6.0   Rain\n",
       "1  1/4/2021         NaN        9.0  Sunny\n",
       "2  1/5/2021        28.0        NaN   Snow\n",
       "3  1/6/2021         NaN        7.0    NaN\n",
       "4  1/7/2021        32.0        NaN   Rain"
      ]
     },
     "execution_count": 20,
     "metadata": {},
     "output_type": "execute_result"
    }
   ],
   "source": [
    "weather = pd.read_csv('weather.csv')\n",
    "weather.head()"
   ]
  },
  {
   "cell_type": "code",
   "execution_count": 21,
   "id": "0024fb90-7bc0-4f7e-84f1-868481a3b3ef",
   "metadata": {},
   "outputs": [
    {
     "data": {
      "text/plain": [
       "0    32.0\n",
       "1     NaN\n",
       "2    28.0\n",
       "3     NaN\n",
       "4    32.0\n",
       "5     NaN\n",
       "6     NaN\n",
       "7    34.0\n",
       "8    40.0\n",
       "Name: temprature, dtype: float64"
      ]
     },
     "execution_count": 21,
     "metadata": {},
     "output_type": "execute_result"
    }
   ],
   "source": [
    "# to view a particular column of DataFrame\n",
    "weather['temprature']"
   ]
  },
  {
   "cell_type": "code",
   "execution_count": 22,
   "id": "5fa85a73-30be-468d-8b16-c294e8a8c3a6",
   "metadata": {},
   "outputs": [
    {
     "data": {
      "text/html": [
       "<div>\n",
       "<style scoped>\n",
       "    .dataframe tbody tr th:only-of-type {\n",
       "        vertical-align: middle;\n",
       "    }\n",
       "\n",
       "    .dataframe tbody tr th {\n",
       "        vertical-align: top;\n",
       "    }\n",
       "\n",
       "    .dataframe thead th {\n",
       "        text-align: right;\n",
       "    }\n",
       "</style>\n",
       "<table border=\"1\" class=\"dataframe\">\n",
       "  <thead>\n",
       "    <tr style=\"text-align: right;\">\n",
       "      <th></th>\n",
       "      <th>day</th>\n",
       "      <th>temprature</th>\n",
       "      <th>windspeed</th>\n",
       "      <th>event</th>\n",
       "    </tr>\n",
       "  </thead>\n",
       "  <tbody>\n",
       "    <tr>\n",
       "      <th>0</th>\n",
       "      <td>1/1/2021</td>\n",
       "      <td>32.0</td>\n",
       "      <td>6.0</td>\n",
       "      <td>Rain</td>\n",
       "    </tr>\n",
       "    <tr>\n",
       "      <th>4</th>\n",
       "      <td>1/7/2021</td>\n",
       "      <td>32.0</td>\n",
       "      <td>NaN</td>\n",
       "      <td>Rain</td>\n",
       "    </tr>\n",
       "    <tr>\n",
       "      <th>7</th>\n",
       "      <td>1/10/2021</td>\n",
       "      <td>34.0</td>\n",
       "      <td>8.0</td>\n",
       "      <td>Cloudy</td>\n",
       "    </tr>\n",
       "    <tr>\n",
       "      <th>8</th>\n",
       "      <td>1/11/2021</td>\n",
       "      <td>40.0</td>\n",
       "      <td>12.0</td>\n",
       "      <td>Sunny</td>\n",
       "    </tr>\n",
       "  </tbody>\n",
       "</table>\n",
       "</div>"
      ],
      "text/plain": [
       "         day  temprature  windspeed   event\n",
       "0   1/1/2021        32.0        6.0    Rain\n",
       "4   1/7/2021        32.0        NaN    Rain\n",
       "7  1/10/2021        34.0        8.0  Cloudy\n",
       "8  1/11/2021        40.0       12.0   Sunny"
      ]
     },
     "execution_count": 22,
     "metadata": {},
     "output_type": "execute_result"
    }
   ],
   "source": [
    "# filter values in the DataFrame\n",
    "weather[weather['temprature'] > 30]"
   ]
  },
  {
   "cell_type": "code",
   "execution_count": 24,
   "id": "ad83f91c-ff22-4e74-844c-4509ba03f5df",
   "metadata": {},
   "outputs": [
    {
     "data": {
      "text/html": [
       "<div>\n",
       "<style scoped>\n",
       "    .dataframe tbody tr th:only-of-type {\n",
       "        vertical-align: middle;\n",
       "    }\n",
       "\n",
       "    .dataframe tbody tr th {\n",
       "        vertical-align: top;\n",
       "    }\n",
       "\n",
       "    .dataframe thead th {\n",
       "        text-align: right;\n",
       "    }\n",
       "</style>\n",
       "<table border=\"1\" class=\"dataframe\">\n",
       "  <thead>\n",
       "    <tr style=\"text-align: right;\">\n",
       "      <th></th>\n",
       "      <th>day</th>\n",
       "      <th>temprature</th>\n",
       "      <th>windspeed</th>\n",
       "      <th>event</th>\n",
       "    </tr>\n",
       "  </thead>\n",
       "  <tbody>\n",
       "    <tr>\n",
       "      <th>0</th>\n",
       "      <td>1/1/2021</td>\n",
       "      <td>32.0</td>\n",
       "      <td>6.0</td>\n",
       "      <td>Rain</td>\n",
       "    </tr>\n",
       "    <tr>\n",
       "      <th>1</th>\n",
       "      <td>1/4/2021</td>\n",
       "      <td>NaN</td>\n",
       "      <td>9.0</td>\n",
       "      <td>Sunny</td>\n",
       "    </tr>\n",
       "  </tbody>\n",
       "</table>\n",
       "</div>"
      ],
      "text/plain": [
       "        day  temprature  windspeed  event\n",
       "0  1/1/2021        32.0        6.0   Rain\n",
       "1  1/4/2021         NaN        9.0  Sunny"
      ]
     },
     "execution_count": 24,
     "metadata": {},
     "output_type": "execute_result"
    }
   ],
   "source": [
    "# usage of iloc() and loc()\n",
    "weather.iloc[:2,]"
   ]
  },
  {
   "cell_type": "code",
   "execution_count": 31,
   "id": "b14dfc8e-d41f-4538-b53f-0086398d8281",
   "metadata": {},
   "outputs": [
    {
     "data": {
      "text/plain": [
       "day           1/4/2021\n",
       "temprature         NaN\n",
       "windspeed          9.0\n",
       "event            Sunny\n",
       "Name: 1, dtype: object"
      ]
     },
     "execution_count": 31,
     "metadata": {},
     "output_type": "execute_result"
    }
   ],
   "source": [
    "weather.loc[1]"
   ]
  }
 ],
 "metadata": {
  "kernelspec": {
   "display_name": "Python 3 (ipykernel)",
   "language": "python",
   "name": "python3"
  },
  "language_info": {
   "codemirror_mode": {
    "name": "ipython",
    "version": 3
   },
   "file_extension": ".py",
   "mimetype": "text/x-python",
   "name": "python",
   "nbconvert_exporter": "python",
   "pygments_lexer": "ipython3",
   "version": "3.8.12"
  }
 },
 "nbformat": 4,
 "nbformat_minor": 5
}
