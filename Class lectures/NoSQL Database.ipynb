{
 "cells": [
  {
   "cell_type": "markdown",
   "id": "16326760-7380-4c1e-ad4b-55fd44ee42fd",
   "metadata": {},
   "source": [
    "* PyMongo is a python library that enables us to connect with MongoDB"
   ]
  },
  {
   "cell_type": "code",
   "execution_count": 1,
   "id": "a2b1fef9-1baf-4906-8431-3f9c5c8cab64",
   "metadata": {},
   "outputs": [],
   "source": [
    "import pymongo"
   ]
  },
  {
   "cell_type": "code",
   "execution_count": 2,
   "id": "3f680fa8-7ea1-4e6b-a98c-49a41679b11c",
   "metadata": {},
   "outputs": [
    {
     "data": {
      "text/plain": [
       "'3.12.1'"
      ]
     },
     "execution_count": 2,
     "metadata": {},
     "output_type": "execute_result"
    }
   ],
   "source": [
    "pymongo.__version__   # to check the version number"
   ]
  },
  {
   "cell_type": "markdown",
   "id": "93a5cb77-5c3e-435e-a4fd-9ee34621ff59",
   "metadata": {},
   "source": [
    "* to connect NoSQL database we need to import the MongoClient()"
   ]
  },
  {
   "cell_type": "code",
   "execution_count": 3,
   "id": "d6f4e6e8-9dac-4c44-8f6a-c67d10f5b0e0",
   "metadata": {},
   "outputs": [],
   "source": [
    "from pymongo import MongoClient\n",
    "client = MongoClient()   # create a instanace of the MongoClient() method\n",
    "\n",
    "# this will create a connection with default host and port number"
   ]
  },
  {
   "cell_type": "markdown",
   "id": "9556bf4c-ea5a-484b-b857-f9617f76c215",
   "metadata": {},
   "source": [
    "* the connection will be established to the default host and port number"
   ]
  },
  {
   "cell_type": "code",
   "execution_count": 4,
   "id": "69e11328-0622-4878-8dc6-71fb5be039fe",
   "metadata": {},
   "outputs": [
    {
     "name": "stdout",
     "output_type": "stream",
     "text": [
      "MongoClient(host=['localhost:27017'], document_class=dict, tz_aware=False, connect=True)\n"
     ]
    }
   ],
   "source": [
    "print(client)  # it will display the localhost and port number"
   ]
  },
  {
   "cell_type": "markdown",
   "id": "49181a92-f5eb-459f-a441-8fd7169cd4aa",
   "metadata": {},
   "source": [
    "* we can create connection with user defined port numbers as well"
   ]
  },
  {
   "cell_type": "code",
   "execution_count": 5,
   "id": "a123b28c-245c-4cac-aa17-044a8709c11c",
   "metadata": {},
   "outputs": [
    {
     "name": "stdout",
     "output_type": "stream",
     "text": [
      "MongoClient(host=['localhost:27017'], document_class=dict, tz_aware=False, connect=True)\n"
     ]
    }
   ],
   "source": [
    "client = MongoClient('localhost',27017)\n",
    "print(client)"
   ]
  },
  {
   "cell_type": "markdown",
   "id": "fdc41318-0750-4297-a56e-c4e58512a939",
   "metadata": {},
   "source": [
    "* we can also use the URL format for connection"
   ]
  },
  {
   "cell_type": "code",
   "execution_count": 6,
   "id": "e6c29c28-6205-46a1-80ba-59183ee8dd3a",
   "metadata": {},
   "outputs": [
    {
     "name": "stdout",
     "output_type": "stream",
     "text": [
      "MongoClient(host=['localhost:27017'], document_class=dict, tz_aware=False, connect=True)\n"
     ]
    }
   ],
   "source": [
    "client = MongoClient('mongodb://localhost:27017')\n",
    "print(client)"
   ]
  },
  {
   "cell_type": "markdown",
   "id": "00977ca3-01d2-4c5b-b90c-c8f3dc1d6ef8",
   "metadata": {},
   "source": [
    "<h2> Creating a database"
   ]
  },
  {
   "cell_type": "markdown",
   "id": "c04cc4ca-88b3-40e1-a9d4-60dc907c6ef8",
   "metadata": {},
   "source": [
    "* to create a database in MongoDB, we use the MongoClient instance and specify a database name. \n",
    "* MongoDB will create a database if it doesn't exist and connect to it."
   ]
  },
  {
   "cell_type": "code",
   "execution_count": 7,
   "id": "7d893a76-1826-43ab-8bbb-bfe1628f7abf",
   "metadata": {},
   "outputs": [],
   "source": [
    "db = client['datascience']  # database named datascience has been created"
   ]
  },
  {
   "cell_type": "markdown",
   "id": "f913a860-74f0-467c-99fc-2c6b184c65c2",
   "metadata": {},
   "source": [
    "* to insert the values into the document"
   ]
  },
  {
   "cell_type": "code",
   "execution_count": 8,
   "id": "11819342-cde8-4e19-8850-b13ef4a6e59b",
   "metadata": {},
   "outputs": [],
   "source": [
    "# creating a dictionary\n",
    "student1 = {\"name\":\"Virat\",\n",
    "            \"class\":\"5th sem\",\n",
    "            \"Subjects\":[\"Big Data\",\"python\",\"no sql\"]}"
   ]
  },
  {
   "cell_type": "code",
   "execution_count": 9,
   "id": "c8f3980f-dbe1-43b9-a3d1-c2bfc4e2ee09",
   "metadata": {},
   "outputs": [],
   "source": [
    "# inserting the values into the document\n",
    "students = db.students   # document\n",
    "result = students.insert_one(student1)   # to insert only one value at a time to the document database"
   ]
  },
  {
   "cell_type": "code",
   "execution_count": 10,
   "id": "bb8e6c5c-3eb9-4123-b8ae-72f321e66376",
   "metadata": {},
   "outputs": [
    {
     "name": "stdout",
     "output_type": "stream",
     "text": [
      "Student key is:  6195f4bdc89617cb1dc52a33\n"
     ]
    }
   ],
   "source": [
    "print(\"Student key is: \", result.inserted_id)"
   ]
  },
  {
   "cell_type": "code",
   "execution_count": 11,
   "id": "3f47c0f0-1a3d-4222-b8f9-b34285ba5f73",
   "metadata": {},
   "outputs": [
    {
     "data": {
      "text/plain": [
       "['students']"
      ]
     },
     "execution_count": 11,
     "metadata": {},
     "output_type": "execute_result"
    }
   ],
   "source": [
    "# to check the collections created in the database\n",
    "db.list_collection_names()"
   ]
  },
  {
   "cell_type": "markdown",
   "id": "9f550a51-a506-4876-a70a-4db673f4ddf9",
   "metadata": {},
   "source": [
    "* to insert many values into the document"
   ]
  },
  {
   "cell_type": "code",
   "execution_count": 12,
   "id": "71a3c357-e44f-49d0-aae5-7b650c498539",
   "metadata": {},
   "outputs": [],
   "source": [
    "# creating a dictionary\n",
    "student2 = {\"name\":\"KL Rahul\",\n",
    "            \"class\":\"5th sem\",\n",
    "            \"Subjects\":[\"Big Data\",\"python\",\"ML\"]}\n",
    "\n",
    "student3 = {\"name\":\"Rohit\",\n",
    "            \"class\":\"5th sem\",\n",
    "            \"Subjects\":[\"Big Data\",\"EDA\",\"no sql\"]}"
   ]
  },
  {
   "cell_type": "code",
   "execution_count": 13,
   "id": "429d4345-5c96-4b8a-8276-de4b75d51683",
   "metadata": {},
   "outputs": [],
   "source": [
    "new_students = students.insert_many([student2,student3])"
   ]
  },
  {
   "cell_type": "code",
   "execution_count": 14,
   "id": "4fddd839-b643-4f48-81e9-30fef0821bde",
   "metadata": {},
   "outputs": [
    {
     "name": "stdout",
     "output_type": "stream",
     "text": [
      "Student key is:  [ObjectId('6195f4bdc89617cb1dc52a34'), ObjectId('6195f4bdc89617cb1dc52a35')]\n"
     ]
    }
   ],
   "source": [
    "print(\"Student key is: \", new_students.inserted_ids)"
   ]
  },
  {
   "cell_type": "markdown",
   "id": "61007e86-79e7-4cda-872c-0fee3c5c4550",
   "metadata": {},
   "source": [
    "* retreiving the  single document"
   ]
  },
  {
   "cell_type": "code",
   "execution_count": 15,
   "id": "07dd7f19-ca6f-45aa-b8fb-9648183fd06d",
   "metadata": {},
   "outputs": [
    {
     "name": "stderr",
     "output_type": "stream",
     "text": [
      "C:\\Users\\mithun\\AppData\\Local\\Temp/ipykernel_12108/1473200020.py:2: DeprecationWarning: count is deprecated. Use Collection.count_documents instead.\n",
      "  db.students.find().count()\n"
     ]
    },
    {
     "data": {
      "text/plain": [
       "6"
      ]
     },
     "execution_count": 15,
     "metadata": {},
     "output_type": "execute_result"
    }
   ],
   "source": [
    "# retreiving\n",
    "db.students.find().count()"
   ]
  },
  {
   "cell_type": "code",
   "execution_count": 16,
   "id": "d2998ece-7085-48fa-87d1-9c3136e3386c",
   "metadata": {},
   "outputs": [
    {
     "name": "stdout",
     "output_type": "stream",
     "text": [
      "{'_id': ObjectId('6171150e0af52a16789bacfa'), 'name': 'Virat', 'class': '5th sem', 'Subjects': ['Big Data', 'python', 'no sql']}\n"
     ]
    }
   ],
   "source": [
    "print(students.find_one())"
   ]
  },
  {
   "cell_type": "markdown",
   "id": "bd9ddc04-0d68-4f7d-af7f-29a3dcb76a26",
   "metadata": {},
   "source": [
    "* to retreive all documents in a collection using the for loop"
   ]
  },
  {
   "cell_type": "code",
   "execution_count": 17,
   "id": "f31e5946-5ca2-4e12-b656-8fc4f2a52650",
   "metadata": {},
   "outputs": [
    {
     "name": "stdout",
     "output_type": "stream",
     "text": [
      "{'_id': ObjectId('6171150e0af52a16789bacfa'), 'name': 'Virat', 'class': '5th sem', 'Subjects': ['Big Data', 'python', 'no sql']}\n",
      "{'_id': ObjectId('6171150e0af52a16789bacfb'), 'name': 'Mithun', 'class': '5th sem', 'Subjects': ['Big Data', 'python', 'ML']}\n",
      "{'_id': ObjectId('6171150e0af52a16789bacfc'), 'name': 'Rohit', 'class': '5th sem', 'Subjects': ['Big Data', 'EDA', 'no sql']}\n",
      "{'_id': ObjectId('6195f4bdc89617cb1dc52a33'), 'name': 'Virat', 'class': '5th sem', 'Subjects': ['Big Data', 'python', 'no sql']}\n",
      "{'_id': ObjectId('6195f4bdc89617cb1dc52a34'), 'name': 'KL Rahul', 'class': '5th sem', 'Subjects': ['Big Data', 'python', 'ML']}\n",
      "{'_id': ObjectId('6195f4bdc89617cb1dc52a35'), 'name': 'Rohit', 'class': '5th sem', 'Subjects': ['Big Data', 'EDA', 'no sql']}\n"
     ]
    }
   ],
   "source": [
    "for i in students.find():\n",
    "    print(i)"
   ]
  },
  {
   "cell_type": "markdown",
   "id": "23d72e01-b005-4048-8462-e996ed041ebf",
   "metadata": {},
   "source": [
    "<h2>Updating a document"
   ]
  },
  {
   "cell_type": "code",
   "execution_count": 18,
   "id": "2393defe-6c91-49de-9646-fcaa8f421769",
   "metadata": {},
   "outputs": [
    {
     "data": {
      "text/plain": [
       "<pymongo.results.UpdateResult at 0x21f6c599b80>"
      ]
     },
     "execution_count": 18,
     "metadata": {},
     "output_type": "execute_result"
    }
   ],
   "source": [
    "student2 = {\"name\":\"KL Rahul\"}             # specify which value to be changed\n",
    "new_student2 ={\"$set\":{\"name\":\"Mithun\"}}   # specify the value to be changed\n",
    "\n",
    "students.update_one(student2, new_student2)"
   ]
  },
  {
   "cell_type": "code",
   "execution_count": 19,
   "id": "0fa78e2d-4ba3-4a70-a16c-f523fbf1c157",
   "metadata": {},
   "outputs": [
    {
     "name": "stdout",
     "output_type": "stream",
     "text": [
      "{'_id': ObjectId('6171150e0af52a16789bacfa'), 'name': 'Virat', 'class': '5th sem', 'Subjects': ['Big Data', 'python', 'no sql']}\n",
      "{'_id': ObjectId('6171150e0af52a16789bacfb'), 'name': 'Mithun', 'class': '5th sem', 'Subjects': ['Big Data', 'python', 'ML']}\n",
      "{'_id': ObjectId('6171150e0af52a16789bacfc'), 'name': 'Rohit', 'class': '5th sem', 'Subjects': ['Big Data', 'EDA', 'no sql']}\n",
      "{'_id': ObjectId('6195f4bdc89617cb1dc52a33'), 'name': 'Virat', 'class': '5th sem', 'Subjects': ['Big Data', 'python', 'no sql']}\n",
      "{'_id': ObjectId('6195f4bdc89617cb1dc52a34'), 'name': 'Mithun', 'class': '5th sem', 'Subjects': ['Big Data', 'python', 'ML']}\n",
      "{'_id': ObjectId('6195f4bdc89617cb1dc52a35'), 'name': 'Rohit', 'class': '5th sem', 'Subjects': ['Big Data', 'EDA', 'no sql']}\n"
     ]
    }
   ],
   "source": [
    "for i in students.find():\n",
    "    print(i)"
   ]
  },
  {
   "cell_type": "markdown",
   "id": "10b86e8f-4f23-4656-9834-7947f9daae24",
   "metadata": {},
   "source": [
    "<h2>Limiting the results"
   ]
  },
  {
   "cell_type": "markdown",
   "id": "de79c05a-b02a-4378-9bf4-05f4383ead47",
   "metadata": {},
   "source": [
    "* MongoDB enables us to limit the result of the query using the limit(no. of documents to be retreived)"
   ]
  },
  {
   "cell_type": "code",
   "execution_count": 20,
   "id": "9d98701f-a71d-4a4e-aa58-4a186ec442ed",
   "metadata": {},
   "outputs": [
    {
     "name": "stdout",
     "output_type": "stream",
     "text": [
      "{'_id': ObjectId('6171150e0af52a16789bacfa'), 'name': 'Virat', 'class': '5th sem', 'Subjects': ['Big Data', 'python', 'no sql']}\n",
      "{'_id': ObjectId('6171150e0af52a16789bacfb'), 'name': 'Mithun', 'class': '5th sem', 'Subjects': ['Big Data', 'python', 'ML']}\n"
     ]
    }
   ],
   "source": [
    "limited_result = students.find().limit(2)\n",
    "for i in limited_result:\n",
    "    print(i)"
   ]
  },
  {
   "cell_type": "markdown",
   "id": "6cd14cc9-26e8-4bbe-af95-e2268044ec65",
   "metadata": {},
   "source": [
    "<h2>Deleting many documents"
   ]
  },
  {
   "cell_type": "code",
   "execution_count": 21,
   "id": "e3906dba-594d-4bb5-b825-8f028bd8b7ee",
   "metadata": {},
   "outputs": [
    {
     "data": {
      "text/plain": [
       "<pymongo.results.DeleteResult at 0x21f6c5eec80>"
      ]
     },
     "execution_count": 21,
     "metadata": {},
     "output_type": "execute_result"
    }
   ],
   "source": [
    "db.students.delete_many({'_id':'6171150e0af52a16789bacfa'})"
   ]
  },
  {
   "cell_type": "code",
   "execution_count": 22,
   "id": "2a31fa12-d6e8-4604-80d8-4bcddd96a195",
   "metadata": {},
   "outputs": [
    {
     "name": "stdout",
     "output_type": "stream",
     "text": [
      "{'_id': ObjectId('6171150e0af52a16789bacfa'), 'name': 'Virat', 'class': '5th sem', 'Subjects': ['Big Data', 'python', 'no sql']}\n",
      "{'_id': ObjectId('6171150e0af52a16789bacfb'), 'name': 'Mithun', 'class': '5th sem', 'Subjects': ['Big Data', 'python', 'ML']}\n",
      "{'_id': ObjectId('6171150e0af52a16789bacfc'), 'name': 'Rohit', 'class': '5th sem', 'Subjects': ['Big Data', 'EDA', 'no sql']}\n",
      "{'_id': ObjectId('6195f4bdc89617cb1dc52a33'), 'name': 'Virat', 'class': '5th sem', 'Subjects': ['Big Data', 'python', 'no sql']}\n",
      "{'_id': ObjectId('6195f4bdc89617cb1dc52a34'), 'name': 'Mithun', 'class': '5th sem', 'Subjects': ['Big Data', 'python', 'ML']}\n",
      "{'_id': ObjectId('6195f4bdc89617cb1dc52a35'), 'name': 'Rohit', 'class': '5th sem', 'Subjects': ['Big Data', 'EDA', 'no sql']}\n"
     ]
    }
   ],
   "source": [
    "for i in students.find():\n",
    "    print(i)"
   ]
  }
 ],
 "metadata": {
  "kernelspec": {
   "display_name": "Python 3 (ipykernel)",
   "language": "python",
   "name": "python3"
  },
  "language_info": {
   "codemirror_mode": {
    "name": "ipython",
    "version": 3
   },
   "file_extension": ".py",
   "mimetype": "text/x-python",
   "name": "python",
   "nbconvert_exporter": "python",
   "pygments_lexer": "ipython3",
   "version": "3.8.12"
  }
 },
 "nbformat": 4,
 "nbformat_minor": 5
}
