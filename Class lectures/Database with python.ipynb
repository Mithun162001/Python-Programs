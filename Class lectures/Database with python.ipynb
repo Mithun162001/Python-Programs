{
 "cells": [
  {
   "cell_type": "markdown",
   "id": "499278f8-1662-485d-b6b9-65c32c726aee",
   "metadata": {},
   "source": [
    "<h2>Connecting to a Database"
   ]
  },
  {
   "cell_type": "code",
   "execution_count": 1,
   "id": "e4d1f53e-d57e-49c1-bdf5-7e74fa40bcd7",
   "metadata": {},
   "outputs": [
    {
     "name": "stdout",
     "output_type": "stream",
     "text": [
      "Opened Database successfully\n"
     ]
    }
   ],
   "source": [
    "import sqlite3\n",
    "conn = sqlite3.connect('datascience_sqllite')\n",
    "cursor = conn.cursor()\n",
    "\n",
    "print(\"Opened Database successfully\")"
   ]
  },
  {
   "cell_type": "markdown",
   "id": "e307b60e-ec89-4c11-9f42-5006ffe4b372",
   "metadata": {},
   "source": [
    "<h2>Creating a table"
   ]
  },
  {
   "cell_type": "code",
   "execution_count": 2,
   "id": "333eefce-f4c1-413f-a33c-f48dbbb2dee5",
   "metadata": {},
   "outputs": [],
   "source": [
    "cursor.execute('''CREATE TABLE STUDENTS1(\n",
    "                    ID INT PRIMARY KEY NOT NULL,\n",
    "                    NAME TEXT NOT NULL,\n",
    "                    ADDRESS CHAR(50),\n",
    "                    MARKS INT);''')\n",
    "cursor.close()"
   ]
  },
  {
   "cell_type": "markdown",
   "id": "b9496df7-c081-478e-8088-4aaf24ff7d18",
   "metadata": {},
   "source": [
    "<h2>Inserting the values"
   ]
  },
  {
   "cell_type": "code",
   "execution_count": 8,
   "id": "0adde8ac-1015-4cef-b8f4-1a21bdb80da9",
   "metadata": {},
   "outputs": [
    {
     "data": {
      "text/plain": [
       "<sqlite3.Cursor at 0x1c734f41570>"
      ]
     },
     "execution_count": 8,
     "metadata": {},
     "output_type": "execute_result"
    }
   ],
   "source": [
    "conn = sqlite3.connect('datascience_sqllite')\n",
    "cursor = conn.cursor()\n",
    "\n",
    "cursor.execute('INSERT INTO STUDENTS1 VALUES(101,\"Mithun\",\"Bengaluru\",85)')"
   ]
  },
  {
   "cell_type": "code",
   "execution_count": 9,
   "id": "8bc8cb8e-352d-4357-89b2-1bcfcbb29b98",
   "metadata": {},
   "outputs": [
    {
     "data": {
      "text/plain": [
       "<sqlite3.Cursor at 0x1c734f41570>"
      ]
     },
     "execution_count": 9,
     "metadata": {},
     "output_type": "execute_result"
    }
   ],
   "source": [
    "cursor.execute('INSERT INTO STUDENTS1 VALUES(102,\"mochi\",\"Bengaluru\",90)')"
   ]
  },
  {
   "cell_type": "code",
   "execution_count": null,
   "id": "7abd2842-6c25-4f30-89ee-5611336be9a6",
   "metadata": {},
   "outputs": [],
   "source": []
  },
  {
   "cell_type": "code",
   "execution_count": 10,
   "id": "d2731b77-b3fc-404e-8cf7-d1326c4ad95b",
   "metadata": {},
   "outputs": [
    {
     "name": "stdout",
     "output_type": "stream",
     "text": [
      "(101, 'Mithun', 'Bengaluru', 85)\n",
      "(102, 'mochi', 'Bengaluru', 90)\n"
     ]
    }
   ],
   "source": [
    "for row in cursor.execute('SELECT * FROM STUDENTS1;'):\n",
    "    print(row)"
   ]
  }
 ],
 "metadata": {
  "kernelspec": {
   "display_name": "Python 3 (ipykernel)",
   "language": "python",
   "name": "python3"
  },
  "language_info": {
   "codemirror_mode": {
    "name": "ipython",
    "version": 3
   },
   "file_extension": ".py",
   "mimetype": "text/x-python",
   "name": "python",
   "nbconvert_exporter": "python",
   "pygments_lexer": "ipython3",
   "version": "3.8.12"
  }
 },
 "nbformat": 4,
 "nbformat_minor": 5
}
