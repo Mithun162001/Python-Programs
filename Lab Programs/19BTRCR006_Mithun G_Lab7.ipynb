{
 "cells": [
  {
   "cell_type": "markdown",
   "id": "78c54fd9-57df-4215-9d0a-3e24c8446a4c",
   "metadata": {},
   "source": [
    "<h1>LAB PROGRAM 7</h1>"
   ]
  },
  {
   "cell_type": "markdown",
   "id": "311e0274-f14d-4495-b2d3-f1c06b865e9c",
   "metadata": {},
   "source": [
    "Mithun G\n",
    "\n",
    "19BTRCR006"
   ]
  },
  {
   "cell_type": "markdown",
   "id": "82e88389-d8fe-44c4-a57b-9e259e7613d9",
   "metadata": {},
   "source": [
    "<h2>a. Write Python program to find the addition of two matrices</h2>"
   ]
  },
  {
   "cell_type": "code",
   "execution_count": 2,
   "id": "cc69508a-7a71-4dcb-a2d6-3883cdd7770a",
   "metadata": {},
   "outputs": [],
   "source": [
    "# importing the numpy library\n",
    "import numpy as np"
   ]
  },
  {
   "cell_type": "code",
   "execution_count": 18,
   "id": "6a613127-5ecc-44e6-bc0d-b7c3db7b8619",
   "metadata": {},
   "outputs": [
    {
     "name": "stdout",
     "output_type": "stream",
     "text": [
      "Matrix A:\n",
      " [[1 2]\n",
      " [4 5]]\n",
      "\n",
      "Matrix B:\n",
      " [[ 7  8]\n",
      " [10 11]]\n"
     ]
    }
   ],
   "source": [
    "# intializing the matrices\n",
    "mat_a = np.array([[1,2],\n",
    "                  [4,5]])\n",
    "\n",
    "mat_b = np.array([[7,8],\n",
    "                 [10,11]])\n",
    "\n",
    "print(\"Matrix A:\\n\", mat_a)\n",
    "print(\"\\nMatrix B:\\n\", mat_b)"
   ]
  },
  {
   "cell_type": "code",
   "execution_count": 19,
   "id": "84ca2bf0-831a-4eb9-b58e-b9452834ed99",
   "metadata": {},
   "outputs": [
    {
     "name": "stdout",
     "output_type": "stream",
     "text": [
      "Addition of matrices A and B:\n",
      " [[ 8 10]\n",
      " [14 16]]\n"
     ]
    }
   ],
   "source": [
    "# addition of two matrices\n",
    "print(\"Addition of matrices A and B:\\n\", mat_a + mat_b)"
   ]
  },
  {
   "cell_type": "markdown",
   "id": "88068bec-b8c4-49aa-b074-2f04cc7ccdce",
   "metadata": {},
   "source": [
    "<h2>b. Write Python program to find the product of two matrices</h2>"
   ]
  },
  {
   "cell_type": "code",
   "execution_count": 20,
   "id": "c49feb9d-0db6-4570-8df1-86ae0e4dd9f5",
   "metadata": {},
   "outputs": [
    {
     "name": "stdout",
     "output_type": "stream",
     "text": [
      "hudmud multiplication of matrices:\n",
      " [[ 7 16]\n",
      " [40 55]]\n",
      "\n",
      "Matrix multiplication of matices:\n",
      " [[27 30]\n",
      " [78 87]]\n"
     ]
    }
   ],
   "source": [
    "print(\"hudmud multiplication of matrices:\\n\", mat_a*mat_b)\n",
    "print()\n",
    "print(\"Matrix multiplication of matices:\\n\", np.dot(mat_a, mat_b))"
   ]
  },
  {
   "cell_type": "markdown",
   "id": "93d18477-497c-4ebd-952d-1003679f8ae6",
   "metadata": {},
   "source": [
    "<h2>c. Write Python program to find the transpose of a matrix</h2>"
   ]
  },
  {
   "cell_type": "code",
   "execution_count": 23,
   "id": "5bcaa4ff-80fc-44cb-a5ba-3e7ca9ad73cc",
   "metadata": {},
   "outputs": [
    {
     "name": "stdout",
     "output_type": "stream",
     "text": [
      "Original matrix A:\n",
      " [[1 2]\n",
      " [4 5]]\n",
      "\n",
      "Transpose of matrix A:\n",
      " [[1 4]\n",
      " [2 5]]\n"
     ]
    }
   ],
   "source": [
    "print(\"Original matrix A:\\n\", mat_a)\n",
    "print(\"\\nTranspose of matrix A:\\n\", mat_a.T)"
   ]
  }
 ],
 "metadata": {
  "kernelspec": {
   "display_name": "Python 3 (ipykernel)",
   "language": "python",
   "name": "python3"
  },
  "language_info": {
   "codemirror_mode": {
    "name": "ipython",
    "version": 3
   },
   "file_extension": ".py",
   "mimetype": "text/x-python",
   "name": "python",
   "nbconvert_exporter": "python",
   "pygments_lexer": "ipython3",
   "version": "3.8.12"
  }
 },
 "nbformat": 4,
 "nbformat_minor": 5
}
