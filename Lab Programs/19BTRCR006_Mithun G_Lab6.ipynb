{
 "cells": [
  {
   "cell_type": "markdown",
   "id": "8a28e7c2-86e3-4b94-a45e-30cd9e99e7e6",
   "metadata": {},
   "source": [
    "<h1>LAB PROGRAM 6</h1>"
   ]
  },
  {
   "cell_type": "markdown",
   "id": "da196b61-34c2-45dd-933b-448e2b015bac",
   "metadata": {},
   "source": [
    "Mithun G\n",
    "\n",
    "19BTRCR006"
   ]
  },
  {
   "cell_type": "markdown",
   "id": "02d5f695-b5b0-45e3-97e1-85af2e1368cd",
   "metadata": {},
   "source": [
    "<h2>a. Write Python program to elaborate lists with the operations such as creating, navigating, slicing, adding or\n",
    "removing elements, etc.</h2>"
   ]
  },
  {
   "cell_type": "code",
   "execution_count": 1,
   "id": "97401671-a155-4f37-aa74-adb3dd20315e",
   "metadata": {},
   "outputs": [
    {
     "name": "stdout",
     "output_type": "stream",
     "text": [
      "The list created contains:  ['physics', '100', '93']\n"
     ]
    }
   ],
   "source": [
    "# creating lists\n",
    "\n",
    "l1 = ['physics','100', '93'] # intializing the list\n",
    "print(\"The list created contains: \", l1)"
   ]
  },
  {
   "cell_type": "code",
   "execution_count": 2,
   "id": "2138ab40-56a0-47a5-bbd1-6c7552514a73",
   "metadata": {},
   "outputs": [
    {
     "name": "stdout",
     "output_type": "stream",
     "text": [
      "The first element of the list:  physics\n",
      "The last element of the list:  93\n",
      "The first two elements of the list:  ['physics', '100']\n"
     ]
    }
   ],
   "source": [
    "# navigating through the lists\n",
    "print(\"The first element of the list: \", l1[0])        # indexing\n",
    "print(\"The last element of the list: \", l1[-1])\n",
    "print(\"The first two elements of the list: \", l1[:2])  # slicing"
   ]
  },
  {
   "cell_type": "code",
   "execution_count": 3,
   "id": "4e39b969-b183-4786-9cd3-7c4a86833afb",
   "metadata": {},
   "outputs": [
    {
     "name": "stdout",
     "output_type": "stream",
     "text": [
      "The updated list contains:  ['chemistry', '100', '93']\n"
     ]
    }
   ],
   "source": [
    "# updating the list\n",
    "l1[0] = 'chemistry'\n",
    "print(\"The updated list contains: \", l1)"
   ]
  },
  {
   "cell_type": "code",
   "execution_count": 4,
   "id": "9337e25f-21f2-439f-8912-bbf6bcd418c6",
   "metadata": {},
   "outputs": [
    {
     "name": "stdout",
     "output_type": "stream",
     "text": [
      "List after addding new element contains:  ['chemistry', '100', '93', 'Computer Science']\n"
     ]
    }
   ],
   "source": [
    "# adding an element to the end of the list\n",
    "l1.append('Computer Science')\n",
    "print(\"List after addding new element contains: \", l1)"
   ]
  },
  {
   "cell_type": "code",
   "execution_count": 5,
   "id": "0b0ad5cb-10d8-416a-a357-2cec12f78f4a",
   "metadata": {},
   "outputs": [
    {
     "name": "stdout",
     "output_type": "stream",
     "text": [
      "List after addding new element contains:  ['chemistry', '95', '100', '93', 'Computer Science']\n"
     ]
    }
   ],
   "source": [
    "# adding an element to the list at specified position/index\n",
    "l1.insert(1,'95')\n",
    "print(\"List after addding new element contains: \", l1)"
   ]
  },
  {
   "cell_type": "code",
   "execution_count": 6,
   "id": "99b386ec-f4c1-4e22-93b0-5902727f1a7f",
   "metadata": {},
   "outputs": [
    {
     "name": "stdout",
     "output_type": "stream",
     "text": [
      "List after removing an element:  ['chemistry', '100', '93', 'Computer Science']\n"
     ]
    }
   ],
   "source": [
    "# removing an element from the list\n",
    "del l1[1]   # removes the element at 1st index position\n",
    "print(\"List after removing an element: \", l1)"
   ]
  },
  {
   "cell_type": "code",
   "execution_count": 7,
   "id": "02411185-2b7d-4b3a-bdb4-92c6832464bc",
   "metadata": {},
   "outputs": [
    {
     "ename": "NameError",
     "evalue": "name 'l1' is not defined",
     "output_type": "error",
     "traceback": [
      "\u001b[1;31m---------------------------------------------------------------------------\u001b[0m",
      "\u001b[1;31mNameError\u001b[0m                                 Traceback (most recent call last)",
      "\u001b[1;32m~\\AppData\\Local\\Temp/ipykernel_3488/2743659996.py\u001b[0m in \u001b[0;36m<module>\u001b[1;34m\u001b[0m\n\u001b[0;32m      1\u001b[0m \u001b[1;31m# removing the entire list\u001b[0m\u001b[1;33m\u001b[0m\u001b[1;33m\u001b[0m\u001b[1;33m\u001b[0m\u001b[0m\n\u001b[0;32m      2\u001b[0m \u001b[1;32mdel\u001b[0m \u001b[0ml1\u001b[0m\u001b[1;33m\u001b[0m\u001b[1;33m\u001b[0m\u001b[0m\n\u001b[1;32m----> 3\u001b[1;33m \u001b[0mprint\u001b[0m\u001b[1;33m(\u001b[0m\u001b[1;34m\"Memory location of the list: \"\u001b[0m\u001b[1;33m,\u001b[0m \u001b[0ml1\u001b[0m\u001b[1;33m)\u001b[0m\u001b[1;33m\u001b[0m\u001b[1;33m\u001b[0m\u001b[0m\n\u001b[0m",
      "\u001b[1;31mNameError\u001b[0m: name 'l1' is not defined"
     ]
    }
   ],
   "source": [
    "# removing the entire list\n",
    "del l1\n",
    "\n",
    "# error shows because the list l1 has been deleted from the memory permanently"
   ]
  },
  {
   "cell_type": "markdown",
   "id": "adea42ea-4928-4fbc-9fda-555d692e427b",
   "metadata": {},
   "source": [
    "<h2>b. Write Python program to elaborate\n",
    "tuples with the operations as in above assignment.</h2>"
   ]
  },
  {
   "cell_type": "code",
   "execution_count": 8,
   "id": "4caec9e5-4db5-4d5e-ac94-47ad255137a5",
   "metadata": {},
   "outputs": [
    {
     "name": "stdout",
     "output_type": "stream",
     "text": [
      "The tuple created contains:  ('physics', '100', '93')\n"
     ]
    }
   ],
   "source": [
    "# creating a tuple\n",
    "t1 = ('physics','100', '93')  # intializing the tuple\n",
    "print(\"The tuple created contains: \", t1)"
   ]
  },
  {
   "cell_type": "code",
   "execution_count": 9,
   "id": "47abaaae-1812-47a5-b509-e53d10d4d4fe",
   "metadata": {},
   "outputs": [
    {
     "name": "stdout",
     "output_type": "stream",
     "text": [
      "The first element of the tuple:  physics\n",
      "The last element of the tuple:  93\n",
      "The first two elements of the tuple:  ('physics', '100')\n"
     ]
    }
   ],
   "source": [
    "# navigating through the lists\n",
    "print(\"The first element of the tuple: \", t1[0])        # indexing\n",
    "print(\"The last element of the tuple: \", t1[-1])\n",
    "print(\"The first two elements of the tuple: \", t1[:2])  # slicing"
   ]
  },
  {
   "cell_type": "code",
   "execution_count": 10,
   "id": "2c5637e2-2636-4828-8426-bed81fe09ba3",
   "metadata": {},
   "outputs": [
    {
     "ename": "TypeError",
     "evalue": "'tuple' object does not support item assignment",
     "output_type": "error",
     "traceback": [
      "\u001b[1;31m---------------------------------------------------------------------------\u001b[0m",
      "\u001b[1;31mTypeError\u001b[0m                                 Traceback (most recent call last)",
      "\u001b[1;32m~\\AppData\\Local\\Temp/ipykernel_3488/2621614134.py\u001b[0m in \u001b[0;36m<module>\u001b[1;34m\u001b[0m\n\u001b[0;32m      1\u001b[0m \u001b[1;31m# updating the tuple\u001b[0m\u001b[1;33m\u001b[0m\u001b[1;33m\u001b[0m\u001b[1;33m\u001b[0m\u001b[0m\n\u001b[1;32m----> 2\u001b[1;33m \u001b[0mt1\u001b[0m\u001b[1;33m[\u001b[0m\u001b[1;36m0\u001b[0m\u001b[1;33m]\u001b[0m \u001b[1;33m=\u001b[0m \u001b[1;34m'chemisty'\u001b[0m\u001b[1;33m\u001b[0m\u001b[1;33m\u001b[0m\u001b[0m\n\u001b[0m",
      "\u001b[1;31mTypeError\u001b[0m: 'tuple' object does not support item assignment"
     ]
    }
   ],
   "source": [
    "# updating the tuple\n",
    "t1[0] = 'chemisty'\n",
    "\n",
    "\n",
    "# shows error because tuples items cannot be updated, modified or added"
   ]
  },
  {
   "cell_type": "code",
   "execution_count": 14,
   "id": "0a3efc67-05db-4002-a58a-69b27f0b0eb6",
   "metadata": {},
   "outputs": [
    {
     "ename": "NameError",
     "evalue": "name 't1' is not defined",
     "output_type": "error",
     "traceback": [
      "\u001b[1;31m---------------------------------------------------------------------------\u001b[0m",
      "\u001b[1;31mNameError\u001b[0m                                 Traceback (most recent call last)",
      "\u001b[1;32m~\\AppData\\Local\\Temp/ipykernel_3488/1741586174.py\u001b[0m in \u001b[0;36m<module>\u001b[1;34m\u001b[0m\n\u001b[0;32m      1\u001b[0m \u001b[1;31m# deleting the tuple from the memory\u001b[0m\u001b[1;33m\u001b[0m\u001b[1;33m\u001b[0m\u001b[1;33m\u001b[0m\u001b[0m\n\u001b[1;32m----> 2\u001b[1;33m \u001b[1;32mdel\u001b[0m \u001b[0mt1\u001b[0m\u001b[1;33m\u001b[0m\u001b[1;33m\u001b[0m\u001b[0m\n\u001b[0m\u001b[0;32m      3\u001b[0m \u001b[1;33m\u001b[0m\u001b[0m\n\u001b[0;32m      4\u001b[0m \u001b[0mprint\u001b[0m\u001b[1;33m(\u001b[0m\u001b[0mt1\u001b[0m\u001b[1;33m)\u001b[0m\u001b[1;33m\u001b[0m\u001b[1;33m\u001b[0m\u001b[0m\n",
      "\u001b[1;31mNameError\u001b[0m: name 't1' is not defined"
     ]
    }
   ],
   "source": [
    "# deleting the tuple from the memory\n",
    "del t1\n",
    "\n",
    "print(t1)   # tuple deleted successfully"
   ]
  },
  {
   "cell_type": "markdown",
   "id": "7350ebe8-7b64-4162-bca6-9cbbda871d1a",
   "metadata": {},
   "source": [
    "<h2>c. Write python program to elaborate\n",
    "dictionaries with the operations such as given above.</h2>"
   ]
  },
  {
   "cell_type": "code",
   "execution_count": 36,
   "id": "9b10ad14-9b24-4589-a2ea-cfcdb32f17cc",
   "metadata": {},
   "outputs": [
    {
     "name": "stdout",
     "output_type": "stream",
     "text": [
      "The created dictionary has:  {'name': ['Virat', 'Rohit', 'KL'], 'age': [32, 34, 28]}\n"
     ]
    }
   ],
   "source": [
    "# creating a dictionary\n",
    "dict = {\"name\":[\"Virat\",\"Rohit\",\"KL\"], \"age\":[32,34,28]}\n",
    "print(\"The created dictionary has: \", dict)"
   ]
  },
  {
   "cell_type": "code",
   "execution_count": 37,
   "id": "fe7c4658-01a6-4e1a-96d0-5ab9197f0eca",
   "metadata": {},
   "outputs": [
    {
     "name": "stdout",
     "output_type": "stream",
     "text": [
      "The names of the players:  ['Virat', 'Rohit', 'KL']\n",
      "The ages of the players:  [32, 34, 28]\n",
      "First two players are:  ['Virat', 'Rohit']\n",
      "Age of KL is:  28\n"
     ]
    }
   ],
   "source": [
    "# navigating in a dictionary\n",
    "print(\"The names of the players: \", dict['name'])\n",
    "print(\"The ages of the players: \", dict['age'])\n",
    "print(\"First two players are: \", dict['name'][:2])\n",
    "print(\"Age of KL is: \", dict['age'][-1])"
   ]
  },
  {
   "cell_type": "code",
   "execution_count": 38,
   "id": "ea27180b-dbe1-4e92-92a5-33580d80cfeb",
   "metadata": {},
   "outputs": [
    {
     "name": "stdout",
     "output_type": "stream",
     "text": [
      "The keys present in this dictionary are:  dict_keys(['name', 'age'])\n",
      "The values present in this dictionary are:  dict_values([['Virat', 'Rohit', 'KL'], [32, 34, 28]])\n"
     ]
    }
   ],
   "source": [
    "# accessing the keys and values of dictionary\n",
    "\n",
    "print(\"The keys present in this dictionary are: \", dict.keys())\n",
    "print(\"The values present in this dictionary are: \", dict.values())"
   ]
  },
  {
   "cell_type": "code",
   "execution_count": 39,
   "id": "4a7a9948-96b3-45bb-9ca0-eff0976c7f3b",
   "metadata": {},
   "outputs": [
    {
     "name": "stdout",
     "output_type": "stream",
     "text": [
      "The dictionary after updating:  {'name': ['Virat', 'Rohit', 'KL Rahul'], 'age': [32, 34, 30]}\n"
     ]
    }
   ],
   "source": [
    "# updating the dictionary\n",
    "\n",
    "dict['age'][2] = 30\n",
    "dict['name'][2] = 'KL Rahul'\n",
    "\n",
    "print(\"The dictionary after updating: \", dict)"
   ]
  },
  {
   "cell_type": "code",
   "execution_count": 40,
   "id": "5db18ec3-ad9d-4033-9e76-bdd1597d7230",
   "metadata": {},
   "outputs": [
    {
     "name": "stdout",
     "output_type": "stream",
     "text": [
      "The dictionary after adding new values:  {'name': ['Virat', 'Rohit', 'KL Rahul', 'jadeja'], 'age': [32, 34, 30, 33]}\n"
     ]
    }
   ],
   "source": [
    "# adding a new value to the dictionary\n",
    "dict['name'].append(\"jadeja\")\n",
    "dict['age'].append(33)\n",
    "\n",
    "print(\"The dictionary after adding new values: \", dict)"
   ]
  },
  {
   "cell_type": "code",
   "execution_count": 42,
   "id": "19771e4f-7b8c-4201-9a77-4c5279a49a9d",
   "metadata": {},
   "outputs": [
    {
     "name": "stdout",
     "output_type": "stream",
     "text": [
      "Dictionary after deleting the first item in the name key:  {'name': ['Rohit', 'KL Rahul', 'jadeja'], 'age': [32, 34, 30, 33]}\n"
     ]
    }
   ],
   "source": [
    "# deleting a dictionary element\n",
    "\n",
    "del dict['name'][0]\n",
    "print(\"Dictionary after deleting the first item in the name key: \", dict)"
   ]
  },
  {
   "cell_type": "code",
   "execution_count": 43,
   "id": "f30b00eb-1e87-40b1-9022-22ccc0f042b7",
   "metadata": {},
   "outputs": [
    {
     "name": "stdout",
     "output_type": "stream",
     "text": [
      "Dictionary after deleting the age key:  {'name': ['Rohit', 'KL Rahul', 'jadeja']}\n"
     ]
    }
   ],
   "source": [
    "# to delete a entire key\n",
    "\n",
    "del dict['age']\n",
    "print(\"Dictionary after deleting the age key: \", dict)"
   ]
  }
 ],
 "metadata": {
  "kernelspec": {
   "display_name": "Python 3 (ipykernel)",
   "language": "python",
   "name": "python3"
  },
  "language_info": {
   "codemirror_mode": {
    "name": "ipython",
    "version": 3
   },
   "file_extension": ".py",
   "mimetype": "text/x-python",
   "name": "python",
   "nbconvert_exporter": "python",
   "pygments_lexer": "ipython3",
   "version": "3.8.12"
  }
 },
 "nbformat": 4,
 "nbformat_minor": 5
}
